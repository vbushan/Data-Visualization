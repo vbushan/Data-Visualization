{
 "cells": [
  {
   "cell_type": "markdown",
   "metadata": {},
   "source": [
    "# Text Analysis "
   ]
  },
  {
   "cell_type": "markdown",
   "metadata": {},
   "source": [
    "Import the required libraries."
   ]
  },
  {
   "cell_type": "code",
   "execution_count": 1,
   "metadata": {},
   "outputs": [
    {
     "name": "stderr",
     "output_type": "stream",
     "text": [
      "[nltk_data] Downloading package gutenberg to\n",
      "[nltk_data]     C:\\Users\\Vamsi\\AppData\\Roaming\\nltk_data...\n",
      "[nltk_data]   Unzipping corpora\\gutenberg.zip.\n",
      "[nltk_data] Downloading package punkt to\n",
      "[nltk_data]     C:\\Users\\Vamsi\\AppData\\Roaming\\nltk_data...\n",
      "[nltk_data]   Unzipping tokenizers\\punkt.zip.\n"
     ]
    },
    {
     "data": {
      "text/plain": [
       "True"
      ]
     },
     "execution_count": 1,
     "metadata": {},
     "output_type": "execute_result"
    }
   ],
   "source": [
    "import nltk\n",
    "from nltk.corpus import gutenberg\n",
    "from pprint import pprint\n",
    "nltk.download('gutenberg')\n",
    "nltk.download('punkt')"
   ]
  },
  {
   "cell_type": "markdown",
   "metadata": {},
   "source": [
    "Check the sample text files available from project gutenberg."
   ]
  },
  {
   "cell_type": "code",
   "execution_count": 2,
   "metadata": {},
   "outputs": [
    {
     "data": {
      "text/plain": [
       "['austen-emma.txt',\n",
       " 'austen-persuasion.txt',\n",
       " 'austen-sense.txt',\n",
       " 'bible-kjv.txt',\n",
       " 'blake-poems.txt',\n",
       " 'bryant-stories.txt',\n",
       " 'burgess-busterbrown.txt',\n",
       " 'carroll-alice.txt',\n",
       " 'chesterton-ball.txt',\n",
       " 'chesterton-brown.txt',\n",
       " 'chesterton-thursday.txt',\n",
       " 'edgeworth-parents.txt',\n",
       " 'melville-moby_dick.txt',\n",
       " 'milton-paradise.txt',\n",
       " 'shakespeare-caesar.txt',\n",
       " 'shakespeare-hamlet.txt',\n",
       " 'shakespeare-macbeth.txt',\n",
       " 'whitman-leaves.txt']"
      ]
     },
     "execution_count": 2,
     "metadata": {},
     "output_type": "execute_result"
    }
   ],
   "source": [
    "nltk.corpus.gutenberg.fileids()"
   ]
  },
  {
   "cell_type": "markdown",
   "metadata": {},
   "source": [
    "Extract the text in the book, \"Alice's Adventures in Wonderland\""
   ]
  },
  {
   "cell_type": "code",
   "execution_count": 3,
   "metadata": {},
   "outputs": [],
   "source": [
    "alice = gutenberg.raw(fileids='carroll-alice.txt')\n",
    "sample_text = \"\"\"Though the exact definition varies, natural language can broadly be defined in contrast to artificial or constructed languages.\n",
    "                Such artificial languages include computer programming languages and international auxiliary languages. We also separate natural language\n",
    "                from other communication systems in nature. Examples of such communication systems include animal dances and songs, \n",
    "                to which some linguistic analogies apply\"\"\" "
   ]
  },
  {
   "cell_type": "markdown",
   "metadata": {},
   "source": [
    "Check the number of characters in the book- "
   ]
  },
  {
   "cell_type": "code",
   "execution_count": 4,
   "metadata": {},
   "outputs": [
    {
     "data": {
      "text/plain": [
       "144395"
      ]
     },
     "execution_count": 4,
     "metadata": {},
     "output_type": "execute_result"
    }
   ],
   "source": [
    "len(alice)\n"
   ]
  },
  {
   "cell_type": "markdown",
   "metadata": {},
   "source": [
    "Choose a small slice (100 characters) to see the text-"
   ]
  },
  {
   "cell_type": "code",
   "execution_count": 5,
   "metadata": {},
   "outputs": [
    {
     "data": {
      "text/plain": [
       "\"[Alice's Adventures in Wonderland by Lewis Carroll 1865]\\n\\nCHAPTER I. Down the Rabbit-Hole\\n\\nAlice was\""
      ]
     },
     "execution_count": 5,
     "metadata": {},
     "output_type": "execute_result"
    }
   ],
   "source": [
    "alice[0:100]"
   ]
  },
  {
   "cell_type": "markdown",
   "metadata": {},
   "source": [
    "Extract the sentences in the texts by using the sentence tokenizers available in nltk- "
   ]
  },
  {
   "cell_type": "code",
   "execution_count": 6,
   "metadata": {},
   "outputs": [],
   "source": [
    "default_st = nltk.sent_tokenize\n",
    "sample_sentences = default_st(text=sample_text)\n",
    "alice_sentences = default_st(text=alice)"
   ]
  },
  {
   "cell_type": "code",
   "execution_count": 7,
   "metadata": {},
   "outputs": [
    {
     "name": "stdout",
     "output_type": "stream",
     "text": [
      "Total sentences in sample_text: 4\n",
      "Sample text sentences :-\n",
      "['Though the exact definition varies, natural language can broadly be defined '\n",
      " 'in contrast to artificial or constructed languages.',\n",
      " 'Such artificial languages include computer programming languages and '\n",
      " 'international auxiliary languages.',\n",
      " 'We also separate natural language\\n'\n",
      " '                from other communication systems in nature.',\n",
      " 'Examples of such communication systems include animal dances and songs, \\n'\n",
      " '                to which some linguistic analogies apply']\n"
     ]
    }
   ],
   "source": [
    "print('Total sentences in sample_text:', len(sample_sentences))\n",
    "print('Sample text sentences :-')\n",
    "pprint(sample_sentences)"
   ]
  },
  {
   "cell_type": "code",
   "execution_count": 8,
   "metadata": {},
   "outputs": [
    {
     "name": "stdout",
     "output_type": "stream",
     "text": [
      "\n",
      "Total sentences in alice: 1625\n",
      "First 5 sentences in alice:-\n",
      "[\"[Alice's Adventures in Wonderland by Lewis Carroll 1865]\\n\\nCHAPTER I.\",\n",
      " 'Down the Rabbit-Hole\\n'\n",
      " '\\n'\n",
      " 'Alice was beginning to get very tired of sitting by her sister on the\\n'\n",
      " 'bank, and of having nothing to do: once or twice she had peeped into the\\n'\n",
      " 'book her sister was reading, but it had no pictures or conversations in\\n'\n",
      " \"it, 'and what is the use of a book,' thought Alice 'without pictures or\\n\"\n",
      " \"conversation?'\",\n",
      " 'So she was considering in her own mind (as well as she could, for the\\n'\n",
      " 'hot day made her feel very sleepy and stupid), whether the pleasure\\n'\n",
      " 'of making a daisy-chain would be worth the trouble of getting up and\\n'\n",
      " 'picking the daisies, when suddenly a White Rabbit with pink eyes ran\\n'\n",
      " 'close by her.',\n",
      " 'There was nothing so VERY remarkable in that; nor did Alice think it so\\n'\n",
      " \"VERY much out of the way to hear the Rabbit say to itself, 'Oh dear!\",\n",
      " 'Oh dear!']\n"
     ]
    }
   ],
   "source": [
    "print('\\nTotal sentences in alice:', len(alice_sentences))\n",
    "print('First 5 sentences in alice:-')\n",
    "pprint(alice_sentences[0:5])"
   ]
  },
  {
   "cell_type": "code",
   "execution_count": 9,
   "metadata": {},
   "outputs": [
    {
     "name": "stdout",
     "output_type": "stream",
     "text": [
      "['Though the exact definition varies, natural language can broadly be defined '\n",
      " 'in contrast to artificial or constructed languages.',\n",
      " 'Such artificial languages include computer programming languages and '\n",
      " 'international auxiliary languages.',\n",
      " 'We also separate natural language\\n'\n",
      " '                from other communication systems in nature.',\n",
      " 'Examples of such communication systems include animal dances and songs, \\n'\n",
      " '                to which some linguistic analogies apply']\n"
     ]
    }
   ],
   "source": [
    "punkt_st = nltk.tokenize.PunktSentenceTokenizer()\n",
    "sample_sentences = punkt_st.tokenize(sample_text)\n",
    "pprint(sample_sentences)"
   ]
  },
  {
   "cell_type": "markdown",
   "metadata": {},
   "source": [
    "Use a word tokenizer to extract the words in a text corpus- "
   ]
  },
  {
   "cell_type": "code",
   "execution_count": 10,
   "metadata": {},
   "outputs": [
    {
     "name": "stdout",
     "output_type": "stream",
     "text": [
      "['Though', 'the', 'exact', 'definition', 'varies', ',', 'natural', 'language', 'can', 'broadly', 'be', 'defined', 'in', 'contrast', 'to', 'artificial', 'or', 'constructed', 'languages', '.', 'Such', 'artificial', 'languages', 'include', 'computer', 'programming', 'languages', 'and', 'international', 'auxiliary', 'languages', '.', 'We', 'also', 'separate', 'natural', 'language', 'from', 'other', 'communication', 'systems', 'in', 'nature', '.', 'Examples', 'of', 'such', 'communication', 'systems', 'include', 'animal', 'dances', 'and', 'songs', ',', 'to', 'which', 'some', 'linguistic', 'analogies', 'apply']\n"
     ]
    }
   ],
   "source": [
    "default_wt = nltk.word_tokenize\n",
    "words = default_wt(sample_text)\n",
    "print(words)"
   ]
  },
  {
   "cell_type": "code",
   "execution_count": 11,
   "metadata": {},
   "outputs": [
    {
     "name": "stdout",
     "output_type": "stream",
     "text": [
      "['Though', 'the', 'exact', 'definition', 'varies', ',', 'natural', 'language', 'can', 'broadly', 'be', 'defined', 'in', 'contrast', 'to', 'artificial', 'or', 'constructed', 'languages.', 'Such', 'artificial', 'languages', 'include', 'computer', 'programming', 'languages', 'and', 'international', 'auxiliary', 'languages.', 'We', 'also', 'separate', 'natural', 'language', 'from', 'other', 'communication', 'systems', 'in', 'nature.', 'Examples', 'of', 'such', 'communication', 'systems', 'include', 'animal', 'dances', 'and', 'songs', ',', 'to', 'which', 'some', 'linguistic', 'analogies', 'apply']\n"
     ]
    }
   ],
   "source": [
    "treebank_wt = nltk.TreebankWordTokenizer()\n",
    "words_trb = treebank_wt.tokenize(sample_text)\n",
    "print(words_trb)"
   ]
  },
  {
   "cell_type": "markdown",
   "metadata": {},
   "source": [
    "# Task 1. Tokenize a paragraph in another language into sentences."
   ]
  },
  {
   "cell_type": "markdown",
   "metadata": {},
   "source": [
    "I took 2000 characters from the alice text variable and converted it to spanish using google translate for the task below."
   ]
  },
  {
   "cell_type": "code",
   "execution_count": 120,
   "metadata": {},
   "outputs": [],
   "source": [
    "alice_spanish=\"\"\"\n",
    "\n",
    "\n",
    "[Las aventuras de Alicia en el país de las maravillas de Lewis Carroll 1865] \\ n \\ nCAPÍTULO I. Por la madriguera del conejo \\ n \\ nAlice estaba empezando a cansarse de sentarse junto a su hermana en el \\ nbanco y de no tener nada que hacer: una vez o dos veces se había asomado al \\ nlibro que estaba leyendo su hermana, pero no tenía imágenes ni conversaciones \\ n, '¿y de qué sirve un libro', pensó Alice 'sin imágenes o \\ nconversación?' \\ n \\ nEntonces ella estaba considerando en su propia mente (lo mejor que podía, porque el día caluroso la hacía sentir muy somnolienta y estúpida), si el placer \\ n de hacer una cadena de margaritas valdría la pena de levantarse y \\ ncoger el margaritas, cuando de repente un Conejo Blanco con ojos rosados ​​corrió \\ ncerca de ella. \\ n \\ nNo había nada MUY notable en eso; ni Alicia lo pensó tan \\ nMuy fuera de lugar escuchar al Conejo decirse a sí mismo: ' ¡Oh, Dios mío! ¡Oh, Dios mío! ¡Llegaré tarde! (cuando lo pensó más tarde, no se le ocurrió que debería haberse maravillado de esto, pero en ese momento todo parecía bastante natural); pero cuando el Conejo realmente TOMÓ UN RELOJ DE SU CHALECO-BOLSILLO, y lo miró, y luego se apresuró, \\ nAlice se puso de pie, porque pasó por su mente que nunca antes había visto un conejo con un bolsillo en el chaleco o un reloj para sacar de él, y ardiendo de curiosidad, corrió por el campo \\ na detrás de él, y afortunadamente llegó justo a tiempo para verlo saltar por un gran \\ nhoy de conejo debajo del seto. \\ n \\ nEn otro momento, Alice fue detrás de él, sin considerar ni una sola vez cómo \\ nen el mundo tenía que salir de nuevo. \\ n \\ nLa madriguera del conejo seguía recto como un túnel por algún camino, y luego \\ nse hundió repentinamente, tan repentinamente que Alice no tuvo ni un momento para pensar \\ na en detenerse antes se encontró cayendo en un \\ npozo muy profundo. \\ n \\ nO el pozo era muy profundo, o cayó muy lentamente, porque tenía \\ nmucho tiempo mientras bajaba para mirar a su alrededor y preguntarse qué iba a pasar a continuación. Primero, trató de mirar hacia abajo y distinguir a qué \\ nse dirigía, pero era demasiado oscuro\n",
    "\n",
    "\n",
    "\n",
    "\"\"\"\n",
    "\n",
    "alice_spanish_sent=default_st(text=alice_spanish)\n"
   ]
  },
  {
   "cell_type": "markdown",
   "metadata": {},
   "source": [
    "Check the sentences extracted by the tokenizer- "
   ]
  },
  {
   "cell_type": "code",
   "execution_count": 121,
   "metadata": {},
   "outputs": [
    {
     "data": {
      "text/plain": [
       "[\"\\n\\n\\n[Las aventuras de Alicia en el país de las maravillas de Lewis Carroll 1865] \\\\ n \\\\ nCAPÍTULO I. Por la madriguera del conejo \\\\ n \\\\ nAlice estaba empezando a cansarse de sentarse junto a su hermana en el \\\\ nbanco y de no tener nada que hacer: una vez o dos veces se había asomado al \\\\ nlibro que estaba leyendo su hermana, pero no tenía imágenes ni conversaciones \\\\ n, '¿y de qué sirve un libro', pensó Alice 'sin imágenes o \\\\ nconversación?'\",\n",
       " '\\\\ n \\\\ nEntonces ella estaba considerando en su propia mente (lo mejor que podía, porque el día caluroso la hacía sentir muy somnolienta y estúpida), si el placer \\\\ n de hacer una cadena de margaritas valdría la pena de levantarse y \\\\ ncoger el margaritas, cuando de repente un Conejo Blanco con ojos rosados \\u200b\\u200bcorrió \\\\ ncerca de ella.',\n",
       " \"\\\\ n \\\\ nNo había nada MUY notable en eso; ni Alicia lo pensó tan \\\\ nMuy fuera de lugar escuchar al Conejo decirse a sí mismo: ' ¡Oh, Dios mío!\",\n",
       " '¡Oh, Dios mío!',\n",
       " '¡Llegaré tarde!',\n",
       " '(cuando lo pensó más tarde, no se le ocurrió que debería haberse maravillado de esto, pero en ese momento todo parecía bastante natural); pero cuando el Conejo realmente TOMÓ UN RELOJ DE SU CHALECO-BOLSILLO, y lo miró, y luego se apresuró, \\\\ nAlice se puso de pie, porque pasó por su mente que nunca antes había visto un conejo con un bolsillo en el chaleco o un reloj para sacar de él, y ardiendo de curiosidad, corrió por el campo \\\\ na detrás de él, y afortunadamente llegó justo a tiempo para verlo saltar por un gran \\\\ nhoy de conejo debajo del seto.',\n",
       " '\\\\ n \\\\ nEn otro momento, Alice fue detrás de él, sin considerar ni una sola vez cómo \\\\ nen el mundo tenía que salir de nuevo.',\n",
       " '\\\\ n \\\\ nLa madriguera del conejo seguía recto como un túnel por algún camino, y luego \\\\ nse hundió repentinamente, tan repentinamente que Alice no tuvo ni un momento para pensar \\\\ na en detenerse antes se encontró cayendo en un \\\\ npozo muy profundo.',\n",
       " '\\\\ n \\\\ nO el pozo era muy profundo, o cayó muy lentamente, porque tenía \\\\ nmucho tiempo mientras bajaba para mirar a su alrededor y preguntarse qué iba a pasar a continuación.',\n",
       " 'Primero, trató de mirar hacia abajo y distinguir a qué \\\\ nse dirigía, pero era demasiado oscuro']"
      ]
     },
     "execution_count": 121,
     "metadata": {},
     "output_type": "execute_result"
    }
   ],
   "source": [
    "alice_spanish_sent"
   ]
  },
  {
   "cell_type": "code",
   "execution_count": 122,
   "metadata": {},
   "outputs": [
    {
     "data": {
      "text/plain": [
       "10"
      ]
     },
     "execution_count": 122,
     "metadata": {},
     "output_type": "execute_result"
    }
   ],
   "source": [
    "len(alice_spanish_sent)"
   ]
  },
  {
   "cell_type": "markdown",
   "metadata": {},
   "source": [
    "Check the output of the Punkt sentence tokenizer."
   ]
  },
  {
   "cell_type": "code",
   "execution_count": 123,
   "metadata": {},
   "outputs": [
    {
     "data": {
      "text/plain": [
       "[\"\\n\\n\\n[Las aventuras de Alicia en el país de las maravillas de Lewis Carroll 1865] \\\\ n \\\\ nCAPÍTULO I. Por la madriguera del conejo \\\\ n \\\\ nAlice estaba empezando a cansarse de sentarse junto a su hermana en el \\\\ nbanco y de no tener nada que hacer: una vez o dos veces se había asomado al \\\\ nlibro que estaba leyendo su hermana, pero no tenía imágenes ni conversaciones \\\\ n, '¿y de qué sirve un libro', pensó Alice 'sin imágenes o \\\\ nconversación?'\",\n",
       " '\\\\ n \\\\ nEntonces ella estaba considerando en su propia mente (lo mejor que podía, porque el día caluroso la hacía sentir muy somnolienta y estúpida), si el placer \\\\ n de hacer una cadena de margaritas valdría la pena de levantarse y \\\\ ncoger el margaritas, cuando de repente un Conejo Blanco con ojos rosados \\u200b\\u200bcorrió \\\\ ncerca de ella.',\n",
       " \"\\\\ n \\\\ nNo había nada MUY notable en eso; ni Alicia lo pensó tan \\\\ nMuy fuera de lugar escuchar al Conejo decirse a sí mismo: ' ¡Oh, Dios mío!\",\n",
       " '¡Oh, Dios mío!',\n",
       " '¡Llegaré tarde!',\n",
       " '(cuando lo pensó más tarde, no se le ocurrió que debería haberse maravillado de esto, pero en ese momento todo parecía bastante natural); pero cuando el Conejo realmente TOMÓ UN RELOJ DE SU CHALECO-BOLSILLO, y lo miró, y luego se apresuró, \\\\ nAlice se puso de pie, porque pasó por su mente que nunca antes había visto un conejo con un bolsillo en el chaleco o un reloj para sacar de él, y ardiendo de curiosidad, corrió por el campo \\\\ na detrás de él, y afortunadamente llegó justo a tiempo para verlo saltar por un gran \\\\ nhoy de conejo debajo del seto.',\n",
       " '\\\\ n \\\\ nEn otro momento, Alice fue detrás de él, sin considerar ni una sola vez cómo \\\\ nen el mundo tenía que salir de nuevo.',\n",
       " '\\\\ n \\\\ nLa madriguera del conejo seguía recto como un túnel por algún camino, y luego \\\\ nse hundió repentinamente, tan repentinamente que Alice no tuvo ni un momento para pensar \\\\ na en detenerse antes se encontró cayendo en un \\\\ npozo muy profundo.',\n",
       " '\\\\ n \\\\ nO el pozo era muy profundo, o cayó muy lentamente, porque tenía \\\\ nmucho tiempo mientras bajaba para mirar a su alrededor y preguntarse qué iba a pasar a continuación.',\n",
       " 'Primero, trató de mirar hacia abajo y distinguir a qué \\\\ nse dirigía, pero era demasiado oscuro']"
      ]
     },
     "execution_count": 123,
     "metadata": {},
     "output_type": "execute_result"
    }
   ],
   "source": [
    "punkt_st.tokenize(alice_spanish)"
   ]
  },
  {
   "cell_type": "code",
   "execution_count": 124,
   "metadata": {},
   "outputs": [
    {
     "data": {
      "text/plain": [
       "10"
      ]
     },
     "execution_count": 124,
     "metadata": {},
     "output_type": "execute_result"
    }
   ],
   "source": [
    "len(punkt_st.tokenize(alice_spanish))"
   ]
  },
  {
   "cell_type": "markdown",
   "metadata": {},
   "source": [
    "As we can see, the outputs from both the tokenizers is the same."
   ]
  },
  {
   "cell_type": "markdown",
   "metadata": {},
   "source": [
    "# Stemming"
   ]
  },
  {
   "cell_type": "code",
   "execution_count": 96,
   "metadata": {},
   "outputs": [],
   "source": [
    "from nltk.stem import PorterStemmer\n",
    "ps = PorterStemmer()"
   ]
  },
  {
   "cell_type": "code",
   "execution_count": 97,
   "metadata": {},
   "outputs": [
    {
     "name": "stdout",
     "output_type": "stream",
     "text": [
      "lie\n"
     ]
    }
   ],
   "source": [
    "print(ps.stem('lying'))"
   ]
  },
  {
   "cell_type": "markdown",
   "metadata": {},
   "source": [
    "# Task 2: Use Snowball Stemmer to identify stems of 10 words in a language other than English."
   ]
  },
  {
   "cell_type": "markdown",
   "metadata": {},
   "source": [
    "Use a word tokenizer to extract the words in the text."
   ]
  },
  {
   "cell_type": "code",
   "execution_count": 125,
   "metadata": {},
   "outputs": [
    {
     "name": "stdout",
     "output_type": "stream",
     "text": [
      "['[', 'Las', 'aventuras', 'de', 'Alicia', 'en', 'el', 'país', 'de', 'las', 'maravillas', 'de', 'Lewis', 'Carroll', '1865', ']', '\\\\', 'n', '\\\\', 'nCAPÍTULO', 'I.', 'Por', 'la', 'madriguera', 'del', 'conejo', '\\\\', 'n', '\\\\', 'nAlice', 'estaba', 'empezando', 'a', 'cansarse', 'de', 'sentarse', 'junto', 'a', 'su', 'hermana', 'en', 'el', '\\\\', 'nbanco', 'y', 'de', 'no', 'tener', 'nada', 'que', 'hacer', ':', 'una', 'vez', 'o', 'dos', 'veces', 'se', 'había', 'asomado', 'al', '\\\\', 'nlibro', 'que', 'estaba', 'leyendo', 'su', 'hermana', ',', 'pero', 'no', 'tenía', 'imágenes', 'ni', 'conversaciones', '\\\\', 'n', ',', \"'¿y\", 'de', 'qué', 'sirve', 'un', 'libro', \"'\", ',', 'pensó', 'Alice', \"'sin\", 'imágenes', 'o', '\\\\', 'nconversación', '?', \"'\", '\\\\', 'n', '\\\\', 'nEntonces', 'ella', 'estaba', 'considerando', 'en', 'su', 'propia', 'mente', '(', 'lo', 'mejor', 'que', 'podía', ',', 'porque', 'el', 'día', 'caluroso', 'la', 'hacía', 'sentir', 'muy', 'somnolienta', 'y', 'estúpida', ')', ',', 'si', 'el', 'placer', '\\\\', 'n', 'de', 'hacer', 'una', 'cadena', 'de', 'margaritas', 'valdría', 'la', 'pena', 'de', 'levantarse', 'y', '\\\\', 'ncoger', 'el', 'margaritas', ',', 'cuando', 'de', 'repente', 'un', 'Conejo', 'Blanco', 'con', 'ojos', 'rosados', '\\u200b\\u200bcorrió', '\\\\', 'ncerca', 'de', 'ella.', '\\\\', 'n', '\\\\', 'nNo', 'había', 'nada', 'MUY', 'notable', 'en', 'eso', ';', 'ni', 'Alicia', 'lo', 'pensó', 'tan', '\\\\', 'nMuy', 'fuera', 'de', 'lugar', 'escuchar', 'al', 'Conejo', 'decirse', 'a', 'sí', 'mismo', ':', \"'\", '¡Oh', ',', 'Dios', 'mío', '!', '¡Oh', ',', 'Dios', 'mío', '!', '¡Llegaré', 'tarde', '!', '(', 'cuando', 'lo', 'pensó', 'más', 'tarde', ',', 'no', 'se', 'le', 'ocurrió', 'que', 'debería', 'haberse', 'maravillado', 'de', 'esto', ',', 'pero', 'en', 'ese', 'momento', 'todo', 'parecía', 'bastante', 'natural', ')', ';', 'pero', 'cuando', 'el', 'Conejo', 'realmente', 'TOMÓ', 'UN', 'RELOJ', 'DE', 'SU', 'CHALECO-BOLSILLO', ',', 'y', 'lo', 'miró', ',', 'y', 'luego', 'se', 'apresuró', ',', '\\\\', 'nAlice', 'se', 'puso', 'de', 'pie', ',', 'porque', 'pasó', 'por', 'su', 'mente', 'que', 'nunca', 'antes', 'había', 'visto', 'un', 'conejo', 'con', 'un', 'bolsillo', 'en', 'el', 'chaleco', 'o', 'un', 'reloj', 'para', 'sacar', 'de', 'él', ',', 'y', 'ardiendo', 'de', 'curiosidad', ',', 'corrió', 'por', 'el', 'campo', '\\\\', 'na', 'detrás', 'de', 'él', ',', 'y', 'afortunadamente', 'llegó', 'justo', 'a', 'tiempo', 'para', 'verlo', 'saltar', 'por', 'un', 'gran', '\\\\', 'nhoy', 'de', 'conejo', 'debajo', 'del', 'seto.', '\\\\', 'n', '\\\\', 'nEn', 'otro', 'momento', ',', 'Alice', 'fue', 'detrás', 'de', 'él', ',', 'sin', 'considerar', 'ni', 'una', 'sola', 'vez', 'cómo', '\\\\', 'nen', 'el', 'mundo', 'tenía', 'que', 'salir', 'de', 'nuevo.', '\\\\', 'n', '\\\\', 'nLa', 'madriguera', 'del', 'conejo', 'seguía', 'recto', 'como', 'un', 'túnel', 'por', 'algún', 'camino', ',', 'y', 'luego', '\\\\', 'nse', 'hundió', 'repentinamente', ',', 'tan', 'repentinamente', 'que', 'Alice', 'no', 'tuvo', 'ni', 'un', 'momento', 'para', 'pensar', '\\\\', 'na', 'en', 'detenerse', 'antes', 'se', 'encontró', 'cayendo', 'en', 'un', '\\\\', 'npozo', 'muy', 'profundo.', '\\\\', 'n', '\\\\', 'nO', 'el', 'pozo', 'era', 'muy', 'profundo', ',', 'o', 'cayó', 'muy', 'lentamente', ',', 'porque', 'tenía', '\\\\', 'nmucho', 'tiempo', 'mientras', 'bajaba', 'para', 'mirar', 'a', 'su', 'alrededor', 'y', 'preguntarse', 'qué', 'iba', 'a', 'pasar', 'a', 'continuación.', 'Primero', ',', 'trató', 'de', 'mirar', 'hacia', 'abajo', 'y', 'distinguir', 'a', 'qué', '\\\\', 'nse', 'dirigía', ',', 'pero', 'era', 'demasiado', 'oscuro']\n"
     ]
    }
   ],
   "source": [
    "esp_words = treebank_wt.tokenize(alice_spanish)\n",
    "print(esp_words)"
   ]
  },
  {
   "cell_type": "markdown",
   "metadata": {},
   "source": [
    "Use a stemmer to extract the roots of a list of words."
   ]
  },
  {
   "cell_type": "code",
   "execution_count": 28,
   "metadata": {},
   "outputs": [
    {
     "name": "stdout",
     "output_type": "stream",
     "text": [
      "capitul\n",
      "por\n",
      "pod\n",
      "madriguer\n",
      "del\n",
      "conej\n",
      "alic\n",
      "estab\n",
      "empez\n",
      "calur\n",
      "cans\n",
      "much\n",
      "consider\n",
      "sent\n",
      "junt\n"
     ]
    }
   ],
   "source": [
    "words=['CAPÍTULO', 'Por', 'podía', 'madriguera', 'del', 'conejo', 'Alice', \n",
    "       'estaba', 'empezando', 'caluroso', 'cansarse', 'mucho', 'considerando', 'sentarse', 'junto']\n",
    "\n",
    "from nltk.stem import SnowballStemmer\n",
    "\n",
    "snb_stemmer=SnowballStemmer(language='spanish')\n",
    "\n",
    "for word in words:\n",
    "    print(snb_stemmer.stem(word))"
   ]
  },
  {
   "cell_type": "markdown",
   "metadata": {},
   "source": [
    "The above piece of code works as expected."
   ]
  },
  {
   "cell_type": "markdown",
   "metadata": {},
   "source": [
    "# Lemmatization"
   ]
  },
  {
   "cell_type": "code",
   "execution_count": 29,
   "metadata": {},
   "outputs": [
    {
     "name": "stderr",
     "output_type": "stream",
     "text": [
      "[nltk_data] Downloading package wordnet to\n",
      "[nltk_data]     C:\\Users\\Vamsi\\AppData\\Roaming\\nltk_data...\n",
      "[nltk_data]   Unzipping corpora\\wordnet.zip.\n"
     ]
    },
    {
     "name": "stdout",
     "output_type": "stream",
     "text": [
      "car\n",
      "woman\n"
     ]
    }
   ],
   "source": [
    "from nltk.stem import WordNetLemmatizer\n",
    "nltk.download('wordnet')\n",
    "wnl = WordNetLemmatizer()\n",
    "# lemmatize nouns\n",
    "print(wnl.lemmatize('cars', 'n'))\n",
    "print (wnl.lemmatize('women', 'n'))"
   ]
  },
  {
   "cell_type": "code",
   "execution_count": 31,
   "metadata": {},
   "outputs": [
    {
     "name": "stdout",
     "output_type": "stream",
     "text": [
      "run\n",
      "eat\n",
      "sad\n",
      "fancy\n"
     ]
    }
   ],
   "source": [
    "# lemmatize verbs\n",
    "print(wnl.lemmatize('running', 'v'))\n",
    "print(wnl.lemmatize('ate', 'v'))\n",
    "\n",
    "# lemmatize adjectives\n",
    "print(wnl.lemmatize('saddest', 'a'))\n",
    "print(wnl.lemmatize('fancier', 'a'))"
   ]
  },
  {
   "cell_type": "markdown",
   "metadata": {},
   "source": [
    "# POS tagging"
   ]
  },
  {
   "cell_type": "code",
   "execution_count": 32,
   "metadata": {},
   "outputs": [
    {
     "name": "stderr",
     "output_type": "stream",
     "text": [
      "[nltk_data] Downloading package averaged_perceptron_tagger to\n",
      "[nltk_data]     C:\\Users\\Vamsi\\AppData\\Roaming\\nltk_data...\n",
      "[nltk_data]   Unzipping taggers\\averaged_perceptron_tagger.zip.\n",
      "[nltk_data] Downloading package universal_tagset to\n",
      "[nltk_data]     C:\\Users\\Vamsi\\AppData\\Roaming\\nltk_data...\n",
      "[nltk_data]   Unzipping taggers\\universal_tagset.zip.\n"
     ]
    },
    {
     "data": {
      "text/plain": [
       "True"
      ]
     },
     "execution_count": 32,
     "metadata": {},
     "output_type": "execute_result"
    }
   ],
   "source": [
    "nltk.download('averaged_perceptron_tagger')\n",
    "nltk.download('universal_tagset')"
   ]
  },
  {
   "cell_type": "code",
   "execution_count": 34,
   "metadata": {},
   "outputs": [
    {
     "name": "stdout",
     "output_type": "stream",
     "text": [
      "['Though', 'the', 'exact', 'definition', 'varies', ',', 'natural', 'language', 'can', 'broadly', 'be', 'defined', 'in', 'contrast', 'to', 'artificial', 'or', 'constructed', 'languages', '.', 'Such', 'artificial', 'languages', 'include', 'computer', 'programming', 'languages', 'and', 'international', 'auxiliary', 'languages', '.', 'We', 'also', 'separate', 'natural', 'language', 'from', 'other', 'communication', 'systems', 'in', 'nature', '.', 'Examples', 'of', 'such', 'communication', 'systems', 'include', 'animal', 'dances', 'and', 'songs', ',', 'to', 'which', 'some', 'linguistic', 'analogies', 'apply']\n"
     ]
    }
   ],
   "source": [
    "default_wt = nltk.word_tokenize\n",
    "words = default_wt(sample_text)\n",
    "print(words)"
   ]
  },
  {
   "cell_type": "code",
   "execution_count": 35,
   "metadata": {},
   "outputs": [],
   "source": [
    "tagged_words = nltk.pos_tag(words, tagset='universal')\n"
   ]
  },
  {
   "cell_type": "code",
   "execution_count": 36,
   "metadata": {},
   "outputs": [
    {
     "name": "stdout",
     "output_type": "stream",
     "text": [
      "[('Though', 'ADP'), ('the', 'DET'), ('exact', 'ADJ'), ('definition', 'NOUN'), ('varies', 'NOUN'), (',', '.'), ('natural', 'ADJ'), ('language', 'NOUN'), ('can', 'VERB'), ('broadly', 'ADV'), ('be', 'VERB'), ('defined', 'VERB'), ('in', 'ADP'), ('contrast', 'NOUN'), ('to', 'PRT'), ('artificial', 'VERB'), ('or', 'CONJ'), ('constructed', 'VERB'), ('languages', 'NOUN'), ('.', '.'), ('Such', 'ADJ'), ('artificial', 'ADJ'), ('languages', 'NOUN'), ('include', 'VERB'), ('computer', 'NOUN'), ('programming', 'NOUN'), ('languages', 'NOUN'), ('and', 'CONJ'), ('international', 'ADJ'), ('auxiliary', 'ADJ'), ('languages', 'NOUN'), ('.', '.'), ('We', 'PRON'), ('also', 'ADV'), ('separate', 'VERB'), ('natural', 'ADJ'), ('language', 'NOUN'), ('from', 'ADP'), ('other', 'ADJ'), ('communication', 'NOUN'), ('systems', 'NOUN'), ('in', 'ADP'), ('nature', 'NOUN'), ('.', '.'), ('Examples', 'NOUN'), ('of', 'ADP'), ('such', 'ADJ'), ('communication', 'NOUN'), ('systems', 'NOUN'), ('include', 'VERB'), ('animal', 'ADJ'), ('dances', 'NOUN'), ('and', 'CONJ'), ('songs', 'NOUN'), (',', '.'), ('to', 'PRT'), ('which', 'DET'), ('some', 'DET'), ('linguistic', 'ADJ'), ('analogies', 'NOUN'), ('apply', 'VERB')]\n"
     ]
    }
   ],
   "source": [
    "print(tagged_words)"
   ]
  },
  {
   "cell_type": "markdown",
   "metadata": {},
   "source": [
    "# Task 3. Putting it all together."
   ]
  },
  {
   "cell_type": "markdown",
   "metadata": {},
   "source": [
    "Extract the text in the \"Julius Caesar\"."
   ]
  },
  {
   "cell_type": "code",
   "execution_count": 51,
   "metadata": {},
   "outputs": [],
   "source": [
    "julius_caesar=gutenberg.raw(fileids='shakespeare-caesar.txt')"
   ]
  },
  {
   "cell_type": "markdown",
   "metadata": {},
   "source": [
    "Check the total number of characters in the book."
   ]
  },
  {
   "cell_type": "code",
   "execution_count": 52,
   "metadata": {},
   "outputs": [
    {
     "data": {
      "text/plain": [
       "112310"
      ]
     },
     "execution_count": 52,
     "metadata": {},
     "output_type": "execute_result"
    }
   ],
   "source": [
    "len(julius_caesar)"
   ]
  },
  {
   "cell_type": "markdown",
   "metadata": {},
   "source": [
    "Convert all characters in the text to lower case."
   ]
  },
  {
   "cell_type": "code",
   "execution_count": 53,
   "metadata": {},
   "outputs": [],
   "source": [
    "julius_caesar=julius_caesar.lower()"
   ]
  },
  {
   "cell_type": "markdown",
   "metadata": {},
   "source": [
    "Extract 10000 characters in the text."
   ]
  },
  {
   "cell_type": "code",
   "execution_count": 98,
   "metadata": {},
   "outputs": [],
   "source": [
    "jc_sample=julius_caesar[:10000]"
   ]
  },
  {
   "cell_type": "code",
   "execution_count": 99,
   "metadata": {},
   "outputs": [
    {
     "data": {
      "text/plain": [
       "\"[the tragedie of julius caesar by william shakespeare 1599]\\n\\n\\nactus primus. scoena prima.\\n\\nenter flauius, murellus, and certaine commoners ouer the stage.\\n\\n  flauius. hence: home you idle creatures, get you home:\\nis this a holiday? what, know you not\\n(being mechanicall) you ought not walke\\nvpon a labouring day, without the signe\\nof your profession? speake, what trade art thou?\\n  car. why sir, a carpenter\\n\\n   mur. where is thy leather apron, and thy rule?\\nwhat dost thou with thy best apparrell on?\\nyou sir, what trade are you?\\n  cobl. truely sir, in respect of a fine workman, i am\\nbut as you would say, a cobler\\n\\n   mur. but what trade art thou? answer me directly\\n\\n   cob. a trade sir, that i hope i may vse, with a safe\\nconscience, which is indeed sir, a mender of bad soules\\n\\n   fla. what trade thou knaue? thou naughty knaue,\\nwhat trade?\\n  cobl. nay i beseech you sir, be not out with me: yet\\nif you be out sir, i can mend you\\n\\n   mur. what mean'st thou by that? mend mee, thou\\nsawcy fellow?\\n  cob. why sir, cobble you\\n\\n   fla. thou art a cobler, art thou?\\n  cob. truly sir, all that i liue by, is with the aule: i\\nmeddle with no tradesmans matters, nor womens matters;\\nbut withal i am indeed sir, a surgeon to old shooes:\\nwhen they are in great danger, i recouer them. as proper\\nmen as euer trod vpon neats leather, haue gone vpon\\nmy handy-worke\\n\\n   fla. but wherefore art not in thy shop to day?\\nwhy do'st thou leade these men about the streets?\\n  cob. truly sir, to weare out their shooes, to get my\\nselfe into more worke. but indeede sir, we make holyday\\nto see caesar, and to reioyce in his triumph\\n\\n   mur. wherefore reioyce?\\nwhat conquest brings he home?\\nwhat tributaries follow him to rome,\\nto grace in captiue bonds his chariot wheeles?\\nyou blockes, you stones, you worse then senslesse things:\\no you hard hearts, you cruell men of rome,\\nknew you not pompey many a time and oft?\\nhaue you climb'd vp to walles and battlements,\\nto towres and windowes? yea, to chimney tops,\\nyour infants in your armes, and there haue sate\\nthe liue-long day, with patient expectation,\\nto see great pompey passe the streets of rome:\\nand when you saw his chariot but appeare,\\nhaue you not made an vniuersall shout,\\nthat tyber trembled vnderneath her bankes\\nto heare the replication of your sounds,\\nmade in her concaue shores?\\nand do you now put on your best attyre?\\nand do you now cull out a holyday?\\nand do you now strew flowers in his way,\\nthat comes in triumph ouer pompeyes blood?\\nbe gone,\\nrunne to your houses, fall vpon your knees,\\npray to the gods to intermit the plague\\nthat needs must light on this ingratitude\\n\\n   fla. go, go, good countrymen, and for this fault\\nassemble all the poore men of your sort;\\ndraw them to tyber bankes, and weepe your teares\\ninto the channell, till the lowest streame\\ndo kisse the most exalted shores of all.\\n\\nexeunt. all the commoners.\\n\\nsee where their basest mettle be not mou'd,\\nthey vanish tongue-tyed in their guiltinesse:\\ngo you downe that way towards the capitoll,\\nthis way will i: disrobe the images,\\nif you do finde them deckt with ceremonies\\n\\n   mur. may we do so?\\nyou know it is the feast of lupercall\\n\\n   fla. it is no matter, let no images\\nbe hung with caesars trophees: ile about,\\nand driue away the vulgar from the streets;\\nso do you too, where you perceiue them thicke.\\nthese growing feathers, pluckt from caesars wing,\\nwill make him flye an ordinary pitch,\\nwho else would soare aboue the view of men,\\nand keepe vs all in seruile fearefulnesse.\\n\\nexeunt.\\n\\nenter caesar, antony for the course, calphurnia, portia, decius,\\ncicero,\\nbrutus, cassius, caska, a soothsayer: after them murellus and\\nflauius.\\n\\n  caes. calphurnia\\n\\n   cask. peace ho, caesar speakes\\n\\n   caes. calphurnia\\n\\n   calp. heere my lord\\n\\n   caes. stand you directly in antonio's way,\\nwhen he doth run his course. antonio\\n\\n   ant. cæsar, my lord\\n\\n   caes. forget not in your speed antonio,\\nto touch calphurnia: for our elders say,\\nthe barren touched in this holy chace,\\nshake off their sterrile curse\\n\\n   ant. i shall remember,\\nwhen caesar sayes, do this; it is perform'd\\n\\n   caes. set on, and leaue no ceremony out\\n\\n   sooth. caesar\\n\\n   caes. ha? who calles?\\n  cask. bid euery noyse be still: peace yet againe\\n\\n   caes. who is it in the presse, that calles on me?\\ni heare a tongue shriller then all the musicke\\ncry, caesar: speake, caesar is turn'd to heare\\n\\n   sooth. beware the ides of march\\n\\n   caes. what man is that?\\n  br. a sooth-sayer bids you beware the ides of march\\n  caes. set him before me, let me see his face\\n\\n   cassi. fellow, come from the throng, look vpon caesar\\n\\n   caes. what sayst thou to me now? speak once againe,\\n  sooth. beware the ides of march\\n\\n   caes. he is a dreamer, let vs leaue him: passe.\\n\\nsennet\\n\\nexeunt. manet brut. & cass.\\n\\n  cassi. will you go see the order of the course?\\n  brut. not i\\n\\n   cassi. i pray you do\\n\\n   brut. i am not gamesom: i do lacke some part\\nof that quicke spirit that is in antony:\\nlet me not hinder cassius your desires;\\nile leaue you\\n\\n   cassi. brutus, i do obserue you now of late:\\ni haue not from your eyes, that gentlenesse\\nand shew of loue, as i was wont to haue:\\nyou beare too stubborne, and too strange a hand\\nouer your friend, that loues you\\n\\n   bru. cassius,\\nbe not deceiu'd: if i haue veyl'd my looke,\\ni turne the trouble of my countenance\\nmeerely vpon my selfe. vexed i am\\nof late, with passions of some difference,\\nconceptions onely proper to my selfe,\\nwhich giue some soyle (perhaps) to my behauiours:\\nbut let not therefore my good friends be greeu'd\\n(among which number cassius be you one)\\nnor construe any further my neglect,\\nthen that poore brutus with himselfe at warre,\\nforgets the shewes of loue to other men\\n\\n   cassi. then brutus, i haue much mistook your passion,\\nby meanes whereof, this brest of mine hath buried\\nthoughts of great value, worthy cogitations.\\ntell me good brutus, can you see your face?\\n  brutus. no cassius:\\nfor the eye sees not it selfe but by reflection,\\nby some other things\\n\\n   cassius. 'tis iust,\\nand it is very much lamented brutus,\\nthat you haue no such mirrors, as will turne\\nyour hidden worthinesse into your eye,\\nthat you might see your shadow:\\ni haue heard,\\nwhere many of the best respect in rome,\\n(except immortall caesar) speaking of brutus,\\nand groaning vnderneath this ages yoake,\\nhaue wish'd, that noble brutus had his eyes\\n\\n   bru. into what dangers, would you\\nleade me cassius?\\nthat you would haue me seeke into my selfe,\\nfor that which is not in me?\\n  cas. therefore good brutus, be prepar'd to heare:\\nand since you know, you cannot see your selfe\\nso well as by reflection; i your glasse,\\nwill modestly discouer to your selfe\\nthat of your selfe, which you yet know not of.\\nand be not iealous on me, gentle brutus:\\nwere i a common laughter, or did vse\\nto stale with ordinary oathes my loue\\nto euery new protester: if you know,\\nthat i do fawne on men, and hugge them hard,\\nand after scandall them: or if you know,\\nthat i professe my selfe in banquetting\\nto all the rout, then hold me dangerous.\\n\\nflourish, and shout.\\n\\n  bru. what meanes this showting?\\ni do feare, the people choose caesar\\nfor their king\\n\\n   cassi. i, do you feare it?\\nthen must i thinke you would not haue it so\\n\\n   bru. i would not cassius, yet i loue him well:\\nbut wherefore do you hold me heere so long?\\nwhat is it, that you would impart to me?\\nif it be ought toward the generall good,\\nset honor in one eye, and death i'th other,\\nand i will looke on both indifferently:\\nfor let the gods so speed mee, as i loue\\nthe name of honor, more then i feare death\\n\\n   cassi. i know that vertue to be in you brutus,\\nas well as i do know your outward fauour.\\nwell, honor is the subiect of my story:\\ni cannot tell, what you and other men\\nthinke of this life: but for my single selfe,\\ni had as liefe not be, as liue to be\\nin awe of such a thing, as i my selfe.\\ni was borne free as caesar, so were you,\\nwe both haue fed as well, and we can both\\nendure the winters cold, as well as hee.\\nfor once, vpon a rawe and gustie day,\\nthe troubled tyber, chafing with her shores,\\ncaesar saide to me, dar'st thou cassius now\\nleape in with me into this angry flood,\\nand swim to yonder point? vpon the word,\\naccoutred as i was, i plunged in,\\nand bad him follow: so indeed he did.\\nthe torrent roar'd, and we did buffet it\\nwith lusty sinewes, throwing it aside,\\nand stemming it with hearts of controuersie.\\nbut ere we could arriue the point propos'd,\\ncaesar cride, helpe me cassius, or i sinke.\\ni (as aeneas, our great ancestor,\\ndid from the flames of troy, vpon his shoulder\\nthe old anchyses beare) so, from the waues of tyber\\ndid i the tyred caesar: and this man,\\nis now become a god, and cassius is\\na wretched creature, and must bend his body,\\nif caesar carelesly but nod on him.\\nhe had a feauer when he was in spaine,\\nand when the fit was on him, i did marke\\nhow he did shake: tis true, this god did shake,\\nhis coward lippes did from their colour flye,\\nand that same eye, whose bend doth awe the world,\\ndid loose his lustre: i did heare him grone:\\ni, and that tongue of his, that bad the romans\\nmarke him, and write his speeches in their bookes,\\nalas, it cried, giue me some drinke titinius,\\nas a sicke girle: ye gods, it doth amaze me,\\na man of such a feeble temper should\\nso get the start of the maiesticke world,\\nand beare the palme alone.\\n\\nshout. flourish.\\n\\n  bru. another generall shout?\\ni do beleeue, that these applauses are\\nfor some new honors, that are heap'd on caesar\\n\\n   cassi. why man, he doth bestride the narrow world\\nlike a colossus, and we petty men\\nwalke vnder his huge legges, and peepe about\\nto finde our selues dishonourable graues.\\nmen at sometime, are masters of their fates.\\nthe fault (deere brutus) is not in our starres,\\nbut in our selues, that we are vnderlings.\\nbrutus and caesar: what should be in that caesar?\\nwhy should that name be sounded more then yours\\nwrite them together: yours, is as faire a name:\\nsound them, it doth become the mouth aswell:\\nweigh them, it is as heauy: coniure with 'em,\\nbru\""
      ]
     },
     "execution_count": 99,
     "metadata": {},
     "output_type": "execute_result"
    }
   ],
   "source": [
    "jc_sample"
   ]
  },
  {
   "cell_type": "markdown",
   "metadata": {},
   "source": [
    "Use the regular expression tokenizer to extract the words in the text."
   ]
  },
  {
   "cell_type": "code",
   "execution_count": 100,
   "metadata": {},
   "outputs": [],
   "source": [
    "from nltk.tokenize import RegexpTokenizer\n",
    "\n",
    "tokenizer = RegexpTokenizer(r'\\w+')\n",
    "jc_sample=tokenizer.tokenize(jc_sample)"
   ]
  },
  {
   "cell_type": "markdown",
   "metadata": {},
   "source": [
    "The tokenizer also removes special characters."
   ]
  },
  {
   "cell_type": "markdown",
   "metadata": {},
   "source": [
    "Remove the stop words in the text."
   ]
  },
  {
   "cell_type": "code",
   "execution_count": 46,
   "metadata": {
    "scrolled": true
   },
   "outputs": [
    {
     "name": "stdout",
     "output_type": "stream",
     "text": [
      "['i', 'me', 'my', 'myself', 'we', 'our', 'ours', 'ourselves', 'you', \"you're\", \"you've\", \"you'll\", \"you'd\", 'your', 'yours', 'yourself', 'yourselves', 'he', 'him', 'his', 'himself', 'she', \"she's\", 'her', 'hers', 'herself', 'it', \"it's\", 'its', 'itself', 'they', 'them', 'their', 'theirs', 'themselves', 'what', 'which', 'who', 'whom', 'this', 'that', \"that'll\", 'these', 'those', 'am', 'is', 'are', 'was', 'were', 'be', 'been', 'being', 'have', 'has', 'had', 'having', 'do', 'does', 'did', 'doing', 'a', 'an', 'the', 'and', 'but', 'if', 'or', 'because', 'as', 'until', 'while', 'of', 'at', 'by', 'for', 'with', 'about', 'against', 'between', 'into', 'through', 'during', 'before', 'after', 'above', 'below', 'to', 'from', 'up', 'down', 'in', 'out', 'on', 'off', 'over', 'under', 'again', 'further', 'then', 'once', 'here', 'there', 'when', 'where', 'why', 'how', 'all', 'any', 'both', 'each', 'few', 'more', 'most', 'other', 'some', 'such', 'no', 'nor', 'not', 'only', 'own', 'same', 'so', 'than', 'too', 'very', 's', 't', 'can', 'will', 'just', 'don', \"don't\", 'should', \"should've\", 'now', 'd', 'll', 'm', 'o', 're', 've', 'y', 'ain', 'aren', \"aren't\", 'couldn', \"couldn't\", 'didn', \"didn't\", 'doesn', \"doesn't\", 'hadn', \"hadn't\", 'hasn', \"hasn't\", 'haven', \"haven't\", 'isn', \"isn't\", 'ma', 'mightn', \"mightn't\", 'mustn', \"mustn't\", 'needn', \"needn't\", 'shan', \"shan't\", 'shouldn', \"shouldn't\", 'wasn', \"wasn't\", 'weren', \"weren't\", 'won', \"won't\", 'wouldn', \"wouldn't\"]\n"
     ]
    }
   ],
   "source": [
    "from nltk.corpus import stopwords\n",
    "print(stopwords.words('english'))"
   ]
  },
  {
   "cell_type": "code",
   "execution_count": 58,
   "metadata": {},
   "outputs": [],
   "source": [
    "stop_words=set(stopwords.words('english'))\n",
    "\n",
    "jc_words=[]\n",
    "\n",
    "for word in jc_sample:\n",
    "    if word not in stop_words:\n",
    "        jc_words.append(word)"
   ]
  },
  {
   "cell_type": "code",
   "execution_count": 59,
   "metadata": {},
   "outputs": [
    {
     "data": {
      "text/plain": [
       "['tragedie',\n",
       " 'julius',\n",
       " 'caesar',\n",
       " 'william',\n",
       " 'shakespeare',\n",
       " '1599',\n",
       " 'actus',\n",
       " 'primus',\n",
       " 'scoena',\n",
       " 'prima',\n",
       " 'enter',\n",
       " 'flauius',\n",
       " 'murellus',\n",
       " 'certaine',\n",
       " 'commoners',\n",
       " 'ouer',\n",
       " 'stage',\n",
       " 'flauius',\n",
       " 'hence',\n",
       " 'home',\n",
       " 'idle',\n",
       " 'creatures',\n",
       " 'get',\n",
       " 'home',\n",
       " 'holiday',\n",
       " 'know',\n",
       " 'mechanicall',\n",
       " 'ought',\n",
       " 'walke',\n",
       " 'vpon',\n",
       " 'labouring',\n",
       " 'day',\n",
       " 'without',\n",
       " 'signe',\n",
       " 'profession',\n",
       " 'speake',\n",
       " 'trade',\n",
       " 'art',\n",
       " 'thou',\n",
       " 'car',\n",
       " 'sir',\n",
       " 'carpenter',\n",
       " 'mur',\n",
       " 'thy',\n",
       " 'leather',\n",
       " 'apron',\n",
       " 'thy',\n",
       " 'rule',\n",
       " 'dost',\n",
       " 'thou',\n",
       " 'thy',\n",
       " 'best',\n",
       " 'apparrell',\n",
       " 'sir',\n",
       " 'trade',\n",
       " 'cobl',\n",
       " 'truely',\n",
       " 'sir',\n",
       " 'respect',\n",
       " 'fine',\n",
       " 'workman',\n",
       " 'would',\n",
       " 'say',\n",
       " 'cobler',\n",
       " 'mur',\n",
       " 'trade',\n",
       " 'art',\n",
       " 'thou',\n",
       " 'answer',\n",
       " 'directly',\n",
       " 'cob',\n",
       " 'trade',\n",
       " 'sir',\n",
       " 'hope',\n",
       " 'may',\n",
       " 'vse',\n",
       " 'safe',\n",
       " 'conscience',\n",
       " 'indeed',\n",
       " 'sir',\n",
       " 'mender',\n",
       " 'bad',\n",
       " 'soules',\n",
       " 'fla',\n",
       " 'trade',\n",
       " 'thou',\n",
       " 'knaue',\n",
       " 'thou',\n",
       " 'naughty',\n",
       " 'knaue',\n",
       " 'trade',\n",
       " 'cobl',\n",
       " 'nay',\n",
       " 'beseech',\n",
       " 'sir',\n",
       " 'yet',\n",
       " 'sir',\n",
       " 'mend',\n",
       " 'mur',\n",
       " 'mean',\n",
       " 'st',\n",
       " 'thou',\n",
       " 'mend',\n",
       " 'mee',\n",
       " 'thou',\n",
       " 'sawcy',\n",
       " 'fellow',\n",
       " 'cob',\n",
       " 'sir',\n",
       " 'cobble',\n",
       " 'fla',\n",
       " 'thou',\n",
       " 'art',\n",
       " 'cobler',\n",
       " 'art',\n",
       " 'thou',\n",
       " 'cob',\n",
       " 'truly',\n",
       " 'sir',\n",
       " 'liue',\n",
       " 'aule',\n",
       " 'meddle',\n",
       " 'tradesmans',\n",
       " 'matters',\n",
       " 'womens',\n",
       " 'matters',\n",
       " 'withal',\n",
       " 'indeed',\n",
       " 'sir',\n",
       " 'surgeon',\n",
       " 'old',\n",
       " 'shooes',\n",
       " 'great',\n",
       " 'danger',\n",
       " 'recouer',\n",
       " 'proper',\n",
       " 'men',\n",
       " 'euer',\n",
       " 'trod',\n",
       " 'vpon',\n",
       " 'neats',\n",
       " 'leather',\n",
       " 'haue',\n",
       " 'gone',\n",
       " 'vpon',\n",
       " 'handy',\n",
       " 'worke',\n",
       " 'fla',\n",
       " 'wherefore',\n",
       " 'art',\n",
       " 'thy',\n",
       " 'shop',\n",
       " 'day',\n",
       " 'st',\n",
       " 'thou',\n",
       " 'leade',\n",
       " 'men',\n",
       " 'streets',\n",
       " 'cob',\n",
       " 'truly',\n",
       " 'sir',\n",
       " 'weare',\n",
       " 'shooes',\n",
       " 'get',\n",
       " 'selfe',\n",
       " 'worke',\n",
       " 'indeede',\n",
       " 'sir',\n",
       " 'make',\n",
       " 'holyday',\n",
       " 'see',\n",
       " 'caesar',\n",
       " 'reioyce',\n",
       " 'triumph',\n",
       " 'mur',\n",
       " 'wherefore',\n",
       " 'reioyce',\n",
       " 'conquest',\n",
       " 'brings',\n",
       " 'home',\n",
       " 'tributaries',\n",
       " 'follow',\n",
       " 'rome',\n",
       " 'grace',\n",
       " 'captiue',\n",
       " 'bonds',\n",
       " 'chariot',\n",
       " 'wheeles',\n",
       " 'blockes',\n",
       " 'stones',\n",
       " 'worse',\n",
       " 'senslesse',\n",
       " 'things',\n",
       " 'hard',\n",
       " 'hearts',\n",
       " 'cruell',\n",
       " 'men',\n",
       " 'rome',\n",
       " 'knew',\n",
       " 'pompey',\n",
       " 'many',\n",
       " 'time',\n",
       " 'oft',\n",
       " 'haue',\n",
       " 'climb',\n",
       " 'vp',\n",
       " 'walles',\n",
       " 'battlements',\n",
       " 'towres',\n",
       " 'windowes',\n",
       " 'yea',\n",
       " 'chimney',\n",
       " 'tops',\n",
       " 'infants',\n",
       " 'armes',\n",
       " 'haue',\n",
       " 'sate',\n",
       " 'liue',\n",
       " 'long',\n",
       " 'day',\n",
       " 'patient',\n",
       " 'expectation',\n",
       " 'see',\n",
       " 'great',\n",
       " 'pompey',\n",
       " 'passe',\n",
       " 'streets',\n",
       " 'rome',\n",
       " 'saw',\n",
       " 'chariot',\n",
       " 'appeare',\n",
       " 'haue',\n",
       " 'made',\n",
       " 'vniuersall',\n",
       " 'shout',\n",
       " 'tyber',\n",
       " 'trembled',\n",
       " 'vnderneath',\n",
       " 'bankes',\n",
       " 'heare',\n",
       " 'replication',\n",
       " 'sounds',\n",
       " 'made',\n",
       " 'concaue',\n",
       " 'shores',\n",
       " 'put',\n",
       " 'best',\n",
       " 'attyre',\n",
       " 'cull',\n",
       " 'holyday',\n",
       " 'strew',\n",
       " 'flowers',\n",
       " 'way',\n",
       " 'comes',\n",
       " 'triumph',\n",
       " 'ouer',\n",
       " 'pompeyes',\n",
       " 'blood',\n",
       " 'gone',\n",
       " 'runne',\n",
       " 'houses',\n",
       " 'fall',\n",
       " 'vpon',\n",
       " 'knees',\n",
       " 'pray',\n",
       " 'gods',\n",
       " 'intermit',\n",
       " 'plague',\n",
       " 'needs',\n",
       " 'must',\n",
       " 'light',\n",
       " 'ingratitude',\n",
       " 'fla',\n",
       " 'go',\n",
       " 'go',\n",
       " 'good',\n",
       " 'countrymen',\n",
       " 'fault',\n",
       " 'assemble',\n",
       " 'poore',\n",
       " 'men',\n",
       " 'sort',\n",
       " 'draw',\n",
       " 'tyber',\n",
       " 'bankes',\n",
       " 'weepe',\n",
       " 'teares',\n",
       " 'channell',\n",
       " 'till',\n",
       " 'lowest',\n",
       " 'streame',\n",
       " 'kisse',\n",
       " 'exalted',\n",
       " 'shores',\n",
       " 'exeunt',\n",
       " 'commoners',\n",
       " 'see',\n",
       " 'basest',\n",
       " 'mettle',\n",
       " 'mou',\n",
       " 'vanish',\n",
       " 'tongue',\n",
       " 'tyed',\n",
       " 'guiltinesse',\n",
       " 'go',\n",
       " 'downe',\n",
       " 'way',\n",
       " 'towards',\n",
       " 'capitoll',\n",
       " 'way',\n",
       " 'disrobe',\n",
       " 'images',\n",
       " 'finde',\n",
       " 'deckt',\n",
       " 'ceremonies',\n",
       " 'mur',\n",
       " 'may',\n",
       " 'know',\n",
       " 'feast',\n",
       " 'lupercall',\n",
       " 'fla',\n",
       " 'matter',\n",
       " 'let',\n",
       " 'images',\n",
       " 'hung',\n",
       " 'caesars',\n",
       " 'trophees',\n",
       " 'ile',\n",
       " 'driue',\n",
       " 'away',\n",
       " 'vulgar',\n",
       " 'streets',\n",
       " 'perceiue',\n",
       " 'thicke',\n",
       " 'growing',\n",
       " 'feathers',\n",
       " 'pluckt',\n",
       " 'caesars',\n",
       " 'wing',\n",
       " 'make',\n",
       " 'flye',\n",
       " 'ordinary',\n",
       " 'pitch',\n",
       " 'else',\n",
       " 'would',\n",
       " 'soare',\n",
       " 'aboue',\n",
       " 'view',\n",
       " 'men',\n",
       " 'keepe',\n",
       " 'vs',\n",
       " 'seruile',\n",
       " 'fearefulnesse',\n",
       " 'exeunt',\n",
       " 'enter',\n",
       " 'caesar',\n",
       " 'antony',\n",
       " 'course',\n",
       " 'calphurnia',\n",
       " 'portia',\n",
       " 'decius',\n",
       " 'cicero',\n",
       " 'brutus',\n",
       " 'cassius',\n",
       " 'caska',\n",
       " 'soothsayer',\n",
       " 'murellus',\n",
       " 'flauius',\n",
       " 'caes',\n",
       " 'calphurnia',\n",
       " 'cask',\n",
       " 'peace',\n",
       " 'ho',\n",
       " 'caesar',\n",
       " 'speakes',\n",
       " 'caes',\n",
       " 'calphurnia',\n",
       " 'calp',\n",
       " 'heere',\n",
       " 'lord',\n",
       " 'caes',\n",
       " 'stand',\n",
       " 'directly',\n",
       " 'antonio',\n",
       " 'way',\n",
       " 'doth',\n",
       " 'run',\n",
       " 'course',\n",
       " 'antonio',\n",
       " 'ant',\n",
       " 'cæsar',\n",
       " 'lord',\n",
       " 'caes',\n",
       " 'forget',\n",
       " 'speed',\n",
       " 'antonio',\n",
       " 'touch',\n",
       " 'calphurnia',\n",
       " 'elders',\n",
       " 'say',\n",
       " 'barren',\n",
       " 'touched',\n",
       " 'holy',\n",
       " 'chace',\n",
       " 'shake',\n",
       " 'sterrile',\n",
       " 'curse',\n",
       " 'ant',\n",
       " 'shall',\n",
       " 'remember',\n",
       " 'caesar',\n",
       " 'sayes',\n",
       " 'perform',\n",
       " 'caes',\n",
       " 'set',\n",
       " 'leaue',\n",
       " 'ceremony',\n",
       " 'sooth',\n",
       " 'caesar',\n",
       " 'caes',\n",
       " 'ha',\n",
       " 'calles',\n",
       " 'cask',\n",
       " 'bid',\n",
       " 'euery',\n",
       " 'noyse',\n",
       " 'still',\n",
       " 'peace',\n",
       " 'yet',\n",
       " 'againe',\n",
       " 'caes',\n",
       " 'presse',\n",
       " 'calles',\n",
       " 'heare',\n",
       " 'tongue',\n",
       " 'shriller',\n",
       " 'musicke',\n",
       " 'cry',\n",
       " 'caesar',\n",
       " 'speake',\n",
       " 'caesar',\n",
       " 'turn',\n",
       " 'heare',\n",
       " 'sooth',\n",
       " 'beware',\n",
       " 'ides',\n",
       " 'march',\n",
       " 'caes',\n",
       " 'man',\n",
       " 'br',\n",
       " 'sooth',\n",
       " 'sayer',\n",
       " 'bids',\n",
       " 'beware',\n",
       " 'ides',\n",
       " 'march',\n",
       " 'caes',\n",
       " 'set',\n",
       " 'let',\n",
       " 'see',\n",
       " 'face',\n",
       " 'cassi',\n",
       " 'fellow',\n",
       " 'come',\n",
       " 'throng',\n",
       " 'look',\n",
       " 'vpon',\n",
       " 'caesar',\n",
       " 'caes',\n",
       " 'sayst',\n",
       " 'thou',\n",
       " 'speak',\n",
       " 'againe',\n",
       " 'sooth',\n",
       " 'beware',\n",
       " 'ides',\n",
       " 'march',\n",
       " 'caes',\n",
       " 'dreamer',\n",
       " 'let',\n",
       " 'vs',\n",
       " 'leaue',\n",
       " 'passe',\n",
       " 'sennet',\n",
       " 'exeunt',\n",
       " 'manet',\n",
       " 'brut',\n",
       " 'cass',\n",
       " 'cassi',\n",
       " 'go',\n",
       " 'see',\n",
       " 'order',\n",
       " 'course',\n",
       " 'brut',\n",
       " 'cassi',\n",
       " 'pray',\n",
       " 'brut',\n",
       " 'gamesom',\n",
       " 'lacke',\n",
       " 'part',\n",
       " 'quicke',\n",
       " 'spirit',\n",
       " 'antony',\n",
       " 'let',\n",
       " 'hinder',\n",
       " 'cassius',\n",
       " 'desires',\n",
       " 'ile',\n",
       " 'leaue',\n",
       " 'cassi',\n",
       " 'brutus',\n",
       " 'obserue',\n",
       " 'late',\n",
       " 'haue',\n",
       " 'eyes',\n",
       " 'gentlenesse',\n",
       " 'shew',\n",
       " 'loue',\n",
       " 'wont',\n",
       " 'haue',\n",
       " 'beare',\n",
       " 'stubborne',\n",
       " 'strange',\n",
       " 'hand',\n",
       " 'ouer',\n",
       " 'friend',\n",
       " 'loues',\n",
       " 'bru',\n",
       " 'cassius',\n",
       " 'deceiu',\n",
       " 'haue',\n",
       " 'veyl',\n",
       " 'looke',\n",
       " 'turne',\n",
       " 'trouble',\n",
       " 'countenance',\n",
       " 'meerely',\n",
       " 'vpon',\n",
       " 'selfe',\n",
       " 'vexed',\n",
       " 'late',\n",
       " 'passions',\n",
       " 'difference',\n",
       " 'conceptions',\n",
       " 'onely',\n",
       " 'proper',\n",
       " 'selfe',\n",
       " 'giue',\n",
       " 'soyle',\n",
       " 'perhaps',\n",
       " 'behauiours',\n",
       " 'let',\n",
       " 'therefore',\n",
       " 'good',\n",
       " 'friends',\n",
       " 'greeu',\n",
       " 'among',\n",
       " 'number',\n",
       " 'cassius',\n",
       " 'one',\n",
       " 'construe',\n",
       " 'neglect',\n",
       " 'poore',\n",
       " 'brutus',\n",
       " 'himselfe',\n",
       " 'warre',\n",
       " 'forgets',\n",
       " 'shewes',\n",
       " 'loue',\n",
       " 'men',\n",
       " 'cassi',\n",
       " 'brutus',\n",
       " 'haue',\n",
       " 'much',\n",
       " 'mistook',\n",
       " 'passion',\n",
       " 'meanes',\n",
       " 'whereof',\n",
       " 'brest',\n",
       " 'mine',\n",
       " 'hath',\n",
       " 'buried',\n",
       " 'thoughts',\n",
       " 'great',\n",
       " 'value',\n",
       " 'worthy',\n",
       " 'cogitations',\n",
       " 'tell',\n",
       " 'good',\n",
       " 'brutus',\n",
       " 'see',\n",
       " 'face',\n",
       " 'brutus',\n",
       " 'cassius',\n",
       " 'eye',\n",
       " 'sees',\n",
       " 'selfe',\n",
       " 'reflection',\n",
       " 'things',\n",
       " 'cassius',\n",
       " 'tis',\n",
       " 'iust',\n",
       " 'much',\n",
       " 'lamented',\n",
       " 'brutus',\n",
       " 'haue',\n",
       " 'mirrors',\n",
       " 'turne',\n",
       " 'hidden',\n",
       " 'worthinesse',\n",
       " 'eye',\n",
       " 'might',\n",
       " 'see',\n",
       " 'shadow',\n",
       " 'haue',\n",
       " 'heard',\n",
       " 'many',\n",
       " 'best',\n",
       " 'respect',\n",
       " 'rome',\n",
       " 'except',\n",
       " 'immortall',\n",
       " 'caesar',\n",
       " 'speaking',\n",
       " 'brutus',\n",
       " 'groaning',\n",
       " 'vnderneath',\n",
       " 'ages',\n",
       " 'yoake',\n",
       " 'haue',\n",
       " 'wish',\n",
       " 'noble',\n",
       " 'brutus',\n",
       " 'eyes',\n",
       " 'bru',\n",
       " 'dangers',\n",
       " 'would',\n",
       " 'leade',\n",
       " 'cassius',\n",
       " 'would',\n",
       " 'haue',\n",
       " 'seeke',\n",
       " 'selfe',\n",
       " 'cas',\n",
       " 'therefore',\n",
       " 'good',\n",
       " 'brutus',\n",
       " 'prepar',\n",
       " 'heare',\n",
       " 'since',\n",
       " 'know',\n",
       " 'cannot',\n",
       " 'see',\n",
       " 'selfe',\n",
       " 'well',\n",
       " 'reflection',\n",
       " 'glasse',\n",
       " 'modestly',\n",
       " 'discouer',\n",
       " 'selfe',\n",
       " 'selfe',\n",
       " 'yet',\n",
       " 'know',\n",
       " 'iealous',\n",
       " 'gentle',\n",
       " 'brutus',\n",
       " 'common',\n",
       " 'laughter',\n",
       " 'vse',\n",
       " 'stale',\n",
       " 'ordinary',\n",
       " 'oathes',\n",
       " 'loue',\n",
       " 'euery',\n",
       " 'new',\n",
       " 'protester',\n",
       " 'know',\n",
       " 'fawne',\n",
       " 'men',\n",
       " 'hugge',\n",
       " 'hard',\n",
       " 'scandall',\n",
       " 'know',\n",
       " 'professe',\n",
       " 'selfe',\n",
       " 'banquetting',\n",
       " 'rout',\n",
       " 'hold',\n",
       " 'dangerous',\n",
       " 'flourish',\n",
       " 'shout',\n",
       " 'bru',\n",
       " 'meanes',\n",
       " 'showting',\n",
       " 'feare',\n",
       " 'people',\n",
       " 'choose',\n",
       " 'caesar',\n",
       " 'king',\n",
       " 'cassi',\n",
       " 'feare',\n",
       " 'must',\n",
       " 'thinke',\n",
       " 'would',\n",
       " 'haue',\n",
       " 'bru',\n",
       " 'would',\n",
       " 'cassius',\n",
       " 'yet',\n",
       " 'loue',\n",
       " 'well',\n",
       " 'wherefore',\n",
       " 'hold',\n",
       " 'heere',\n",
       " 'long',\n",
       " 'would',\n",
       " 'impart',\n",
       " 'ought',\n",
       " 'toward',\n",
       " 'generall',\n",
       " 'good',\n",
       " 'set',\n",
       " 'honor',\n",
       " 'one',\n",
       " 'eye',\n",
       " 'death',\n",
       " 'th',\n",
       " 'looke',\n",
       " 'indifferently',\n",
       " 'let',\n",
       " 'gods',\n",
       " 'speed',\n",
       " 'mee',\n",
       " 'loue',\n",
       " 'name',\n",
       " 'honor',\n",
       " 'feare',\n",
       " 'death',\n",
       " 'cassi',\n",
       " 'know',\n",
       " 'vertue',\n",
       " 'brutus',\n",
       " 'well',\n",
       " 'know',\n",
       " 'outward',\n",
       " 'fauour',\n",
       " 'well',\n",
       " 'honor',\n",
       " 'subiect',\n",
       " 'story',\n",
       " 'cannot',\n",
       " 'tell',\n",
       " 'men',\n",
       " 'thinke',\n",
       " 'life',\n",
       " 'single',\n",
       " 'selfe',\n",
       " 'liefe',\n",
       " 'liue',\n",
       " 'awe',\n",
       " 'thing',\n",
       " 'selfe',\n",
       " 'borne',\n",
       " 'free',\n",
       " 'caesar',\n",
       " 'haue',\n",
       " 'fed',\n",
       " 'well',\n",
       " 'endure',\n",
       " 'winters',\n",
       " 'cold',\n",
       " 'well',\n",
       " 'hee',\n",
       " 'vpon',\n",
       " 'rawe',\n",
       " 'gustie',\n",
       " 'day',\n",
       " 'troubled',\n",
       " 'tyber',\n",
       " 'chafing',\n",
       " 'shores',\n",
       " 'caesar',\n",
       " 'saide',\n",
       " 'dar',\n",
       " 'st',\n",
       " 'thou',\n",
       " 'cassius',\n",
       " 'leape',\n",
       " 'angry',\n",
       " 'flood',\n",
       " 'swim',\n",
       " 'yonder',\n",
       " 'point',\n",
       " 'vpon',\n",
       " 'word',\n",
       " 'accoutred',\n",
       " 'plunged',\n",
       " 'bad',\n",
       " 'follow',\n",
       " 'indeed',\n",
       " 'torrent',\n",
       " 'roar',\n",
       " 'buffet',\n",
       " 'lusty',\n",
       " 'sinewes',\n",
       " 'throwing',\n",
       " 'aside',\n",
       " 'stemming',\n",
       " 'hearts',\n",
       " 'controuersie',\n",
       " 'ere',\n",
       " 'could',\n",
       " 'arriue',\n",
       " 'point',\n",
       " 'propos',\n",
       " 'caesar',\n",
       " 'cride',\n",
       " 'helpe',\n",
       " 'cassius',\n",
       " 'sinke',\n",
       " 'aeneas',\n",
       " 'great',\n",
       " 'ancestor',\n",
       " 'flames',\n",
       " 'troy',\n",
       " 'vpon',\n",
       " 'shoulder',\n",
       " 'old',\n",
       " 'anchyses',\n",
       " 'beare',\n",
       " 'waues',\n",
       " 'tyber',\n",
       " 'tyred',\n",
       " 'caesar',\n",
       " 'man',\n",
       " 'become',\n",
       " 'god',\n",
       " 'cassius',\n",
       " 'wretched',\n",
       " 'creature',\n",
       " 'must',\n",
       " 'bend',\n",
       " 'body',\n",
       " 'caesar',\n",
       " 'carelesly',\n",
       " 'nod',\n",
       " 'feauer',\n",
       " 'spaine',\n",
       " 'fit',\n",
       " 'marke',\n",
       " 'shake',\n",
       " 'tis',\n",
       " 'true',\n",
       " 'god',\n",
       " 'shake',\n",
       " 'coward',\n",
       " 'lippes',\n",
       " 'colour',\n",
       " 'flye',\n",
       " 'eye',\n",
       " 'whose',\n",
       " 'bend',\n",
       " 'doth',\n",
       " 'awe',\n",
       " 'world',\n",
       " 'loose',\n",
       " 'lustre',\n",
       " 'heare',\n",
       " 'grone',\n",
       " 'tongue',\n",
       " 'bad',\n",
       " 'romans',\n",
       " 'marke',\n",
       " 'write',\n",
       " 'speeches',\n",
       " 'bookes',\n",
       " 'alas',\n",
       " 'cried',\n",
       " 'giue',\n",
       " 'drinke',\n",
       " 'titinius',\n",
       " 'sicke',\n",
       " 'girle',\n",
       " 'ye',\n",
       " 'gods',\n",
       " 'doth',\n",
       " 'amaze',\n",
       " 'man',\n",
       " 'feeble',\n",
       " 'temper',\n",
       " 'get',\n",
       " 'start',\n",
       " 'maiesticke',\n",
       " 'world',\n",
       " 'beare',\n",
       " 'palme',\n",
       " 'alone',\n",
       " 'shout',\n",
       " 'flourish',\n",
       " 'bru',\n",
       " 'another',\n",
       " 'generall',\n",
       " 'shout',\n",
       " 'beleeue',\n",
       " 'applauses',\n",
       " 'new',\n",
       " 'honors',\n",
       " 'heap',\n",
       " 'caesar',\n",
       " 'cassi',\n",
       " 'man',\n",
       " 'doth',\n",
       " 'bestride',\n",
       " 'narrow',\n",
       " 'world',\n",
       " 'like',\n",
       " 'colossus',\n",
       " 'petty',\n",
       " 'men',\n",
       " 'walke',\n",
       " 'vnder',\n",
       " 'huge',\n",
       " 'legges',\n",
       " 'peepe',\n",
       " 'finde',\n",
       " 'selues',\n",
       " 'dishonourable',\n",
       " 'graues',\n",
       " 'men',\n",
       " 'sometime',\n",
       " 'masters',\n",
       " 'fates',\n",
       " 'fault',\n",
       " 'deere',\n",
       " 'brutus',\n",
       " 'starres',\n",
       " 'selues',\n",
       " 'vnderlings',\n",
       " 'brutus',\n",
       " 'caesar',\n",
       " 'caesar',\n",
       " 'name',\n",
       " 'sounded',\n",
       " 'write',\n",
       " 'together',\n",
       " 'faire',\n",
       " 'name',\n",
       " 'sound',\n",
       " 'doth',\n",
       " 'become',\n",
       " 'mouth',\n",
       " 'aswell',\n",
       " 'weigh',\n",
       " 'heauy',\n",
       " 'coniure',\n",
       " 'em',\n",
       " 'bru']"
      ]
     },
     "execution_count": 59,
     "metadata": {},
     "output_type": "execute_result"
    }
   ],
   "source": [
    "jc_words"
   ]
  },
  {
   "cell_type": "markdown",
   "metadata": {},
   "source": [
    "Extract the most common words in the text."
   ]
  },
  {
   "cell_type": "code",
   "execution_count": 75,
   "metadata": {},
   "outputs": [],
   "source": [
    "from collections import Counter\n",
    "common_words=Counter(jc_words).most_common(10)"
   ]
  },
  {
   "cell_type": "code",
   "execution_count": 76,
   "metadata": {},
   "outputs": [
    {
     "data": {
      "text/plain": [
       "[('caesar', 19),\n",
       " ('haue', 14),\n",
       " ('brutus', 14),\n",
       " ('thou', 12),\n",
       " ('sir', 12),\n",
       " ('selfe', 11),\n",
       " ('cassius', 11),\n",
       " ('caes', 11),\n",
       " ('men', 10),\n",
       " ('vpon', 9)]"
      ]
     },
     "execution_count": 76,
     "metadata": {},
     "output_type": "execute_result"
    }
   ],
   "source": [
    "common_words"
   ]
  },
  {
   "cell_type": "markdown",
   "metadata": {},
   "source": [
    "Plot the distribution of frequencies of the most common words."
   ]
  },
  {
   "cell_type": "code",
   "execution_count": 108,
   "metadata": {},
   "outputs": [
    {
     "data": {
      "image/png": "[encoded data removed]",
      "text/plain": [
       "<Figure size 576x432 with 1 Axes>"
      ]
     },
     "metadata": {
      "needs_background": "light"
     },
     "output_type": "display_data"
    }
   ],
   "source": [
    "import matplotlib.pyplot as plt\n",
    "fig = plt.figure(figsize=(8,6))\n",
    "ax = fig.add_axes([0,0,1,1])\n",
    "\n",
    "\n",
    "words = [word for word,_ in common_words]\n",
    "counts = [count for _,count in common_words]\n",
    "\n",
    "ax.bar(words,counts,label='Count')\n",
    "plt.title('Word Frequencies')\n",
    "plt.legend()\n",
    "plt.show()\n"
   ]
  },
  {
   "cell_type": "markdown",
   "metadata": {},
   "source": [
    "<b> Observation: </b>\n",
    "The above plot illustrates the distribution of frequencies of most common words in a sample of text extracted from Julius Casear. We can see that the \"caesar\" is the most common word with 19 occurences. And \"thou\" is the fourth most common word."
   ]
  }
 ],
 "metadata": {
  "kernelspec": {
   "display_name": "Python 3",
   "language": "python",
   "name": "python3"
  },
  "language_info": {
   "codemirror_mode": {
    "name": "ipython",
    "version": 3
   },
   "file_extension": ".py",
   "mimetype": "text/x-python",
   "name": "python",
   "nbconvert_exporter": "python",
   "pygments_lexer": "ipython3",
   "version": "3.7.3"
  }
 },
 "nbformat": 4,
 "nbformat_minor": 2
}
